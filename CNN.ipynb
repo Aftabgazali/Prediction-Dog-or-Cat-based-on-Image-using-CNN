{
 "cells": [
  {
   "cell_type": "code",
   "execution_count": 1,
   "metadata": {},
   "outputs": [],
   "source": [
    "import numpy as np\n",
    "import pandas as pd\n",
    "import tensorflow as tf"
   ]
  },
  {
   "cell_type": "code",
   "execution_count": 2,
   "metadata": {},
   "outputs": [],
   "source": [
    "from keras.preprocessing.image import ImageDataGenerator"
   ]
  },
  {
   "cell_type": "code",
   "execution_count": 3,
   "metadata": {},
   "outputs": [
    {
     "data": {
      "text/plain": [
       "'2.4.1'"
      ]
     },
     "execution_count": 3,
     "metadata": {},
     "output_type": "execute_result"
    }
   ],
   "source": [
    "tf.__version__"
   ]
  },
  {
   "cell_type": "markdown",
   "metadata": {},
   "source": [
    "## (i) Data Preprocessing"
   ]
  },
  {
   "cell_type": "markdown",
   "metadata": {},
   "source": [
    "## Preprocessing on Training Set"
   ]
  },
  {
   "cell_type": "code",
   "execution_count": 4,
   "metadata": {},
   "outputs": [
    {
     "name": "stdout",
     "output_type": "stream",
     "text": [
      "Found 8000 images belonging to 2 classes.\n"
     ]
    }
   ],
   "source": [
    "# Modifying the Images i.e zoom in/out rotation..\n",
    "train_datagen=ImageDataGenerator(\n",
    "rescale=1./255,\n",
    "shear_range=0.2,\n",
    "zoom_range=0.2,\n",
    "horizontal_flip=True\n",
    ")\n",
    "\n",
    "train_set=train_datagen.flow_from_directory(\n",
    "'dataset/training_set',\n",
    "target_size=(64,64),\n",
    "batch_size=32,\n",
    "class_mode='binary')"
   ]
  },
  {
   "cell_type": "markdown",
   "metadata": {},
   "source": [
    "## Preprocessing the Test Set"
   ]
  },
  {
   "cell_type": "code",
   "execution_count": 5,
   "metadata": {},
   "outputs": [
    {
     "name": "stdout",
     "output_type": "stream",
     "text": [
      "Found 2000 images belonging to 2 classes.\n"
     ]
    }
   ],
   "source": [
    "test_datagen=ImageDataGenerator(rescale=1./255)\n",
    "test_set=test_datagen.flow_from_directory(\n",
    "'dataset/test_set',\n",
    "target_size=(64,64),\n",
    "batch_size=32,\n",
    "class_mode='binary'\n",
    ")"
   ]
  },
  {
   "cell_type": "markdown",
   "metadata": {},
   "source": [
    "## (ii) Building the CNN"
   ]
  },
  {
   "cell_type": "code",
   "execution_count": 6,
   "metadata": {},
   "outputs": [],
   "source": [
    "cnn =tf.keras.models.Sequential()"
   ]
  },
  {
   "cell_type": "markdown",
   "metadata": {},
   "source": [
    "## Convolution"
   ]
  },
  {
   "cell_type": "code",
   "execution_count": 7,
   "metadata": {},
   "outputs": [],
   "source": [
    "cnn.add(tf.keras.layers.Conv2D(filters=32, kernel_size=3, activation='relu', input_shape=[64,64,3]))"
   ]
  },
  {
   "cell_type": "markdown",
   "metadata": {},
   "source": [
    "## Pooling"
   ]
  },
  {
   "cell_type": "code",
   "execution_count": 8,
   "metadata": {},
   "outputs": [],
   "source": [
    "cnn.add(tf.keras.layers.MaxPool2D(pool_size=(2,2),strides=2))"
   ]
  },
  {
   "cell_type": "markdown",
   "metadata": {},
   "source": [
    "## Adding Second Convolutional Layer"
   ]
  },
  {
   "cell_type": "code",
   "execution_count": 9,
   "metadata": {},
   "outputs": [],
   "source": [
    "cnn.add(tf.keras.layers.Conv2D(filters=32, kernel_size=3, activation='relu'))\n",
    "cnn.add(tf.keras.layers.MaxPool2D(pool_size=(2,2),strides=2))"
   ]
  },
  {
   "cell_type": "markdown",
   "metadata": {},
   "source": [
    "## Flattening"
   ]
  },
  {
   "cell_type": "code",
   "execution_count": 10,
   "metadata": {},
   "outputs": [],
   "source": [
    "cnn.add(tf.keras.layers.Flatten())"
   ]
  },
  {
   "cell_type": "markdown",
   "metadata": {},
   "source": [
    "## Full Connection"
   ]
  },
  {
   "cell_type": "code",
   "execution_count": 11,
   "metadata": {},
   "outputs": [],
   "source": [
    "cnn.add(tf.keras.layers.Dense(units=128,activation='relu'))"
   ]
  },
  {
   "cell_type": "markdown",
   "metadata": {},
   "source": [
    "## Output Layer"
   ]
  },
  {
   "cell_type": "code",
   "execution_count": 12,
   "metadata": {},
   "outputs": [],
   "source": [
    "cnn.add(tf.keras.layers.Dense(units=1,activation='sigmoid'))"
   ]
  },
  {
   "cell_type": "markdown",
   "metadata": {},
   "source": [
    "## (iii) Training the CNN"
   ]
  },
  {
   "cell_type": "code",
   "execution_count": 13,
   "metadata": {},
   "outputs": [],
   "source": [
    "cnn.compile(optimizer='adam',loss='binary_crossentropy',metrics=['accuracy'])"
   ]
  },
  {
   "cell_type": "code",
   "execution_count": 14,
   "metadata": {},
   "outputs": [
    {
     "name": "stdout",
     "output_type": "stream",
     "text": [
      "Epoch 1/25\n",
      "250/250 [==============================] - 52s 205ms/step - loss: 0.6935 - accuracy: 0.5417 - val_loss: 0.6323 - val_accuracy: 0.6505\n",
      "Epoch 2/25\n",
      "250/250 [==============================] - 47s 188ms/step - loss: 0.6097 - accuracy: 0.6657 - val_loss: 0.5583 - val_accuracy: 0.7170\n",
      "Epoch 3/25\n",
      "250/250 [==============================] - 50s 200ms/step - loss: 0.5597 - accuracy: 0.7134 - val_loss: 0.5202 - val_accuracy: 0.7420\n",
      "Epoch 4/25\n",
      "250/250 [==============================] - 51s 204ms/step - loss: 0.5248 - accuracy: 0.7404 - val_loss: 0.5475 - val_accuracy: 0.7485\n",
      "Epoch 5/25\n",
      "250/250 [==============================] - 47s 189ms/step - loss: 0.5019 - accuracy: 0.7578 - val_loss: 0.5026 - val_accuracy: 0.7625\n",
      "Epoch 6/25\n",
      "250/250 [==============================] - 46s 183ms/step - loss: 0.4887 - accuracy: 0.7628 - val_loss: 0.4828 - val_accuracy: 0.7705\n",
      "Epoch 7/25\n",
      "250/250 [==============================] - 46s 183ms/step - loss: 0.4850 - accuracy: 0.7663 - val_loss: 0.4783 - val_accuracy: 0.7765\n",
      "Epoch 8/25\n",
      "250/250 [==============================] - 46s 186ms/step - loss: 0.4686 - accuracy: 0.7714 - val_loss: 0.4848 - val_accuracy: 0.7745\n",
      "Epoch 9/25\n",
      "250/250 [==============================] - 51s 203ms/step - loss: 0.4502 - accuracy: 0.7870 - val_loss: 0.4758 - val_accuracy: 0.7755\n",
      "Epoch 10/25\n",
      "250/250 [==============================] - 43s 174ms/step - loss: 0.4501 - accuracy: 0.7909 - val_loss: 0.5039 - val_accuracy: 0.7685\n",
      "Epoch 11/25\n",
      "250/250 [==============================] - 43s 171ms/step - loss: 0.4435 - accuracy: 0.7878 - val_loss: 0.4674 - val_accuracy: 0.7905\n",
      "Epoch 12/25\n",
      "250/250 [==============================] - 43s 173ms/step - loss: 0.4220 - accuracy: 0.8093 - val_loss: 0.4814 - val_accuracy: 0.7790\n",
      "Epoch 13/25\n",
      "250/250 [==============================] - 42s 170ms/step - loss: 0.4127 - accuracy: 0.8087 - val_loss: 0.4492 - val_accuracy: 0.7935\n",
      "Epoch 14/25\n",
      "250/250 [==============================] - 51s 203ms/step - loss: 0.3892 - accuracy: 0.8191 - val_loss: 0.4556 - val_accuracy: 0.7920\n",
      "Epoch 15/25\n",
      "250/250 [==============================] - 51s 203ms/step - loss: 0.3758 - accuracy: 0.8317 - val_loss: 0.4671 - val_accuracy: 0.7825\n",
      "Epoch 16/25\n",
      "250/250 [==============================] - 46s 184ms/step - loss: 0.3881 - accuracy: 0.8266 - val_loss: 0.4761 - val_accuracy: 0.7800\n",
      "Epoch 17/25\n",
      "250/250 [==============================] - 47s 188ms/step - loss: 0.3907 - accuracy: 0.8164 - val_loss: 0.4413 - val_accuracy: 0.8005\n",
      "Epoch 18/25\n",
      "250/250 [==============================] - 48s 193ms/step - loss: 0.3684 - accuracy: 0.8287 - val_loss: 0.5035 - val_accuracy: 0.7680\n",
      "Epoch 19/25\n",
      "250/250 [==============================] - 47s 187ms/step - loss: 0.3554 - accuracy: 0.8376 - val_loss: 0.4488 - val_accuracy: 0.8025\n",
      "Epoch 20/25\n",
      "250/250 [==============================] - 47s 188ms/step - loss: 0.3471 - accuracy: 0.8442 - val_loss: 0.4532 - val_accuracy: 0.8060\n",
      "Epoch 21/25\n",
      "250/250 [==============================] - 47s 188ms/step - loss: 0.3501 - accuracy: 0.8426 - val_loss: 0.4790 - val_accuracy: 0.8060\n",
      "Epoch 22/25\n",
      "250/250 [==============================] - 48s 191ms/step - loss: 0.3293 - accuracy: 0.8558 - val_loss: 0.4549 - val_accuracy: 0.8075\n",
      "Epoch 23/25\n",
      "250/250 [==============================] - 47s 187ms/step - loss: 0.3297 - accuracy: 0.8560 - val_loss: 0.4651 - val_accuracy: 0.8060\n",
      "Epoch 24/25\n",
      "250/250 [==============================] - 49s 197ms/step - loss: 0.3256 - accuracy: 0.8569 - val_loss: 0.4522 - val_accuracy: 0.8025\n",
      "Epoch 25/25\n",
      "250/250 [==============================] - 49s 198ms/step - loss: 0.3017 - accuracy: 0.8681 - val_loss: 0.5365 - val_accuracy: 0.7925\n"
     ]
    },
    {
     "data": {
      "text/plain": [
       "<tensorflow.python.keras.callbacks.History at 0x213eafb32c8>"
      ]
     },
     "execution_count": 14,
     "metadata": {},
     "output_type": "execute_result"
    }
   ],
   "source": [
    "cnn.fit(x=train_set, validation_data=test_set,epochs=25)"
   ]
  },
  {
   "cell_type": "markdown",
   "metadata": {},
   "source": [
    "## Making a Single Prediction"
   ]
  },
  {
   "cell_type": "code",
   "execution_count": 15,
   "metadata": {},
   "outputs": [
    {
     "name": "stdout",
     "output_type": "stream",
     "text": [
      "Cat\n"
     ]
    }
   ],
   "source": [
    "from keras.preprocessing import image\n",
    "test_image= image.load_img(path='dataset/single_prediction/cat_or_dog_2.jpg', target_size=(64,64))\n",
    "test_image=image.img_to_array(test_image)\n",
    "test_image=np.expand_dims(test_image, axis=0)\n",
    "result=cnn.predict(test_image)\n",
    "\n",
    "if result[0][0]== 1:\n",
    "    prediction='Dog'\n",
    "else:\n",
    "    prediction='Cat'\n",
    "print(prediction)"
   ]
  },
  {
   "cell_type": "code",
   "execution_count": null,
   "metadata": {},
   "outputs": [],
   "source": []
  }
 ],
 "metadata": {
  "kernelspec": {
   "display_name": "Python 3",
   "language": "python",
   "name": "python3"
  },
  "language_info": {
   "codemirror_mode": {
    "name": "ipython",
    "version": 3
   },
   "file_extension": ".py",
   "mimetype": "text/x-python",
   "name": "python",
   "nbconvert_exporter": "python",
   "pygments_lexer": "ipython3",
   "version": "3.7.6"
  }
 },
 "nbformat": 4,
 "nbformat_minor": 4
}
